{
  "nbformat": 4,
  "nbformat_minor": 0,
  "metadata": {
    "colab": {
      "provenance": [],
      "authorship_tag": "ABX9TyOsp2hWWKoURFAjt1L6phHJ",
      "include_colab_link": true
    },
    "kernelspec": {
      "name": "python3",
      "display_name": "Python 3"
    },
    "language_info": {
      "name": "python"
    }
  },
  "cells": [
    {
      "cell_type": "markdown",
      "metadata": {
        "id": "view-in-github",
        "colab_type": "text"
      },
      "source": [
        "<a href=\"https://colab.research.google.com/github/boobcatto/bootdev-learning-python/blob/main/C1.ipynb\" target=\"_parent\"><img src=\"https://colab.research.google.com/assets/colab-badge.svg\" alt=\"Open In Colab\"/></a>"
      ]
    },
    {
      "cell_type": "code",
      "execution_count": 3,
      "metadata": {
        "colab": {
          "base_uri": "https://localhost:8080/"
        },
        "id": "4syx61Cifuy3",
        "outputId": "cfd6958e-785a-403f-b859-e3b4bd18c5de"
      },
      "outputs": [
        {
          "output_type": "stream",
          "name": "stdout",
          "text": [
            "Welcome to fantasy quest!\n"
          ]
        }
      ],
      "source": [
        "print(\"Welcome to fantasy quest!\")"
      ]
    },
    {
      "cell_type": "code",
      "source": [
        "#Fix Your First Bug\n",
        "#The combat system in Fantasy Quest isn't working as intended! It appears that players are gaining health when attacked instead of losing it.\n",
        "\n",
        "#Assignment\n",
        "#Fix the math bug on line 3.\n",
        "\n",
        "sword_damage = 10\n",
        "player_health = 100\n",
        "health_after_attack = player_health - sword_damage\n",
        "\n",
        "# Don't touch below this line\n",
        "print(f\"Lollilfred's health is: {player_health}\")\n",
        "print(f\"Lollilfred is hit by a sword for {sword_damage} damage...\")\n",
        "print(f\"Lollilfred's health is now: {health_after_attack}\")"
      ],
      "metadata": {
        "colab": {
          "base_uri": "https://localhost:8080/"
        },
        "id": "U2qzX4Rrgwrt",
        "outputId": "f18cfc7c-e71f-497a-e411-d89d4d2ce715"
      },
      "execution_count": 5,
      "outputs": [
        {
          "output_type": "stream",
          "name": "stdout",
          "text": [
            "Lollilfred's health is: 100\n",
            "Lollilfred is hit by a sword for 10 damage...\n",
            "Lollilfred's health is now: 90\n"
          ]
        }
      ]
    },
    {
      "cell_type": "code",
      "source": [
        "#print text to console\n",
        "print(\"Use the arrow keys to move\")"
      ],
      "metadata": {
        "colab": {
          "base_uri": "https://localhost:8080/"
        },
        "id": "NfCHzklu78yI",
        "outputId": "faaa1b7e-a9ed-4b84-d2c5-520d292e8e6e"
      },
      "execution_count": 6,
      "outputs": [
        {
          "output_type": "stream",
          "name": "stdout",
          "text": [
            "Use the arrow keys to move\n"
          ]
        }
      ]
    },
    {
      "cell_type": "code",
      "source": [
        "#Our hero's sword deals 250 damage normally, but should deal an additional 75 damage when it's enchanted.\n",
        "\n",
        "#Calculate and print the result of 250 + 75\n",
        "\n",
        "print(250+75)"
      ],
      "metadata": {
        "colab": {
          "base_uri": "https://localhost:8080/"
        },
        "id": "88SnUsvW8qT7",
        "outputId": "29ea513a-2850-4689-a742-070aaf316998"
      },
      "execution_count": 7,
      "outputs": [
        {
          "output_type": "stream",
          "name": "stdout",
          "text": [
            "325\n"
          ]
        }
      ]
    },
    {
      "cell_type": "code",
      "source": [
        "#The dialogue in our game should display in the correct order! In the first level, our hero encounters a talking owl named Jax.\n",
        "\n",
        "#Run (not submit) the code and see that it's printed in the wrong order\n",
        "#Rearrange the code so that it prints in the following (correct) order:\n",
        "\n",
        "print(\"Jax: B-Kaw!\")\n",
        "print(\"Hero: ...\")\n",
        "print(\"Jax: Where are you off to this morning? Bkaw...\")\n",
        "print(\"Hero: Where did an owl learn to speak??\")\n"
      ],
      "metadata": {
        "colab": {
          "base_uri": "https://localhost:8080/"
        },
        "id": "KzUqtXkD-69Y",
        "outputId": "5e439a07-58a3-4bfe-adb4-0eabdd7d6450"
      },
      "execution_count": 8,
      "outputs": [
        {
          "output_type": "stream",
          "name": "stdout",
          "text": [
            "Jax: B-Kaw!\n",
            "Hero: ...\n",
            "Jax: Where are you off to this morning? Bkaw...\n",
            "Hero: Where did an owl learn to speak??\n"
          ]
        }
      ]
    },
    {
      "cell_type": "code",
      "source": [
        "#Assignment\n",
        "#Debug the code so that it correctly prints the solution to the math problem.\n",
        "\n",
        "#Remember, print() just prints the text in quotes. If you want to print the result of a mathematical expression, you can't put it in quotes.\n",
        "\n",
        "print((250 + 241 + 244 + 255) / 4)"
      ],
      "metadata": {
        "colab": {
          "base_uri": "https://localhost:8080/"
        },
        "id": "67tTbTyWAHHq",
        "outputId": "67390cd8-8aca-4e67-c646-b0cdf461bd4a"
      },
      "execution_count": 9,
      "outputs": [
        {
          "output_type": "stream",
          "name": "stdout",
          "text": [
            "247.5\n"
          ]
        }
      ]
    },
    {
      "cell_type": "code",
      "source": [
        "#Assignment\n",
        "#Add 2 separate print statements to complete the Innkeeper's response. They should say the following:\n",
        "\n",
        "print(\"Ah! Great choices...\")\n",
        "print(\"Is there anything else I can help you with?\")"
      ],
      "metadata": {
        "colab": {
          "base_uri": "https://localhost:8080/"
        },
        "id": "z-Iqo07ZANS2",
        "outputId": "69771ac3-e1ac-4d1d-9265-bc69553eb6d8"
      },
      "execution_count": 10,
      "outputs": [
        {
          "output_type": "stream",
          "name": "stdout",
          "text": [
            "Ah! Great choices...\n",
            "Is there anything else I can help you with?\n"
          ]
        }
      ]
    }
  ]
}
