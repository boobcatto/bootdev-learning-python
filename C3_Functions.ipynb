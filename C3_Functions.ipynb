{
  "nbformat": 4,
  "nbformat_minor": 0,
  "metadata": {
    "colab": {
      "provenance": [],
      "authorship_tag": "ABX9TyP3kkuEKm8jqGA8+d/Hwwgq",
      "include_colab_link": true
    },
    "kernelspec": {
      "name": "python3",
      "display_name": "Python 3"
    },
    "language_info": {
      "name": "python"
    }
  },
  "cells": [
    {
      "cell_type": "markdown",
      "metadata": {
        "id": "view-in-github",
        "colab_type": "text"
      },
      "source": [
        "<a href=\"https://colab.research.google.com/github/quanzee/bootdev-learning-python/blob/main/C3_Functions.ipynb\" target=\"_parent\"><img src=\"https://colab.research.google.com/assets/colab-badge.svg\" alt=\"Open In Colab\"/></a>"
      ]
    },
    {
      "cell_type": "code",
      "execution_count": 1,
      "metadata": {
        "id": "aTaTC9RbMIu_",
        "colab": {
          "base_uri": "https://localhost:8080/"
        },
        "outputId": "be5a4025-6c85-4616-ff8a-0c62392a20d6"
      },
      "outputs": [
        {
          "output_type": "stream",
          "name": "stdout",
          "text": [
            "Sword length: 1.0 meters.\n",
            "Sword attack area: 3.14 square meters\n",
            "Spear length: 2.0 meters.\n",
            "Spear attack area: 12.56 square meters\n"
          ]
        }
      ],
      "source": [
        "\"\"\"\n",
        "We need to calculate the size of a weapon's \"attack area\". With a 1.0 meter sword, for example, a player can attack in an area of 3.14 square meters around them.\n",
        "You can use the area_of_circle function to do that calculation.\n",
        "\n",
        "Fix the bug on line 13.\n",
        "\n",
        "The spear_area variable should be set to the result of calling the area_of_circle function with the given spear_length as input.\n",
        "\n",
        "\"\"\"\n",
        "def area_of_circle(radius):\n",
        "    pi = 3.14\n",
        "    area = pi * radius * radius\n",
        "    return area\n",
        "\n",
        "\n",
        "sword_length = 1.0\n",
        "spear_length = 2.0\n",
        "\n",
        "# don't touch above this line\n",
        "\n",
        "sword_area = area_of_circle(sword_length)\n",
        "spear_area = area_of_circle(spear_length)\n",
        "\n",
        "# don't touch below this line\n",
        "\n",
        "print(\"Sword length:\", sword_length, \"meters.\")\n",
        "print(\"Sword attack area:\", sword_area, \"square meters\")\n",
        "\n",
        "print(\"Spear length:\", spear_length, \"meters.\")\n",
        "print(\"Spear attack area:\", spear_area, \"square meters\")\n",
        "\n",
        "\n"
      ]
    },
    {
      "cell_type": "code",
      "source": [
        "\"\"\"\n",
        "We need to calculate the total damage from a combo of three damaging attacks.\n",
        "Complete the triple_attack function that takes three numbers as its parameters, damage_one, damage_two, and damage_three, and returns the sum.\n",
        "\n",
        "The attacks (attack_one to attack_six) are already passed to the triple_attack function for you, so you do not need to use them directly in the function.\n",
        "\"\"\"\n",
        "def triple_attack(damage_one, damage_two, damage_three):\n",
        "    sum = damage_one + damage_two + damage_three\n",
        "    return sum\n",
        "\n",
        "# Don't touch below this line\n",
        "\n",
        "attack_one = 2\n",
        "attack_two = 4\n",
        "attack_three = 3\n",
        "first_triple_attack_damage = triple_attack(attack_one, attack_two, attack_three)\n",
        "\n",
        "print(\"Getting damage for\", attack_one, attack_two, \"and\", attack_three, \"...\")\n",
        "print(first_triple_attack_damage, \"points of damage dealt!\")\n",
        "print(\"=====================================\")\n",
        "\n",
        "attack_four = -1\n",
        "attack_five = 10\n",
        "attack_six = 5\n",
        "second_triple_attack_damage = triple_attack(attack_four, attack_five, attack_six)\n",
        "\n",
        "print(\"Getting damage for\", attack_four, attack_five, \"and\", attack_six, \"...\")\n",
        "print(second_triple_attack_damage, \"points of damage dealt!\")\n",
        "print(\"=====================================\")\n"
      ],
      "metadata": {
        "colab": {
          "base_uri": "https://localhost:8080/"
        },
        "id": "zVVQ9a5uRp2T",
        "outputId": "af75f5b8-751e-4076-93db-c772fbeac238"
      },
      "execution_count": 2,
      "outputs": [
        {
          "output_type": "stream",
          "name": "stdout",
          "text": [
            "Getting damage for 2 4 and 3 ...\n",
            "9 points of damage dealt!\n",
            "=====================================\n",
            "Getting damage for -1 10 and 5 ...\n",
            "14 points of damage dealt!\n",
            "=====================================\n"
          ]
        }
      ]
    },
    {
      "cell_type": "code",
      "source": [
        "\"\"\"\n",
        "There is a problem in the get_title function! It's supposed to calculate the title value and return it to the caller. Instead, it's barbarically printing the value to the console.\n",
        "\n",
        "Fix the function so that it returns the title value instead of printing it to the console.\n",
        "\"\"\"\n",
        "\n",
        "def get_title(first_name, last_name, job):\n",
        "    title = first_name + \" \" + last_name + \" the \" + job\n",
        "    return title\n",
        "\n",
        "\n",
        "# Don't touch below this line\n",
        "\n",
        "\n",
        "def test(first_name, last_name, job):\n",
        "    title = get_title(first_name, last_name, job)\n",
        "    print(\"First name:\", first_name)\n",
        "    print(\"Last name:\", last_name)\n",
        "    print(\"Job:\", job)\n",
        "    print(\"Title:\", title)\n",
        "    print(\"=====================================\")\n",
        "\n",
        "\n",
        "test(\"Frodo\", \"Baggins\", \"warrior\")\n",
        "test(\"Bilbo\", \"Baggins\", \"thief\")\n",
        "test(\"Gandalf\", \"The Grey\", \"wizard\")\n",
        "test(\"Aragorn\", \"Son of Arathorn\", \"ranger\")"
      ],
      "metadata": {
        "colab": {
          "base_uri": "https://localhost:8080/"
        },
        "id": "1aeMNy21a7hx",
        "outputId": "f01ddf07-4655-4ca8-b85b-e4879bd09bb0"
      },
      "execution_count": 6,
      "outputs": [
        {
          "output_type": "stream",
          "name": "stdout",
          "text": [
            "First name: Frodo\n",
            "Last name: Baggins\n",
            "Job: warrior\n",
            "Title: Frodo Baggins the warrior\n",
            "=====================================\n",
            "First name: Bilbo\n",
            "Last name: Baggins\n",
            "Job: thief\n",
            "Title: Bilbo Baggins the thief\n",
            "=====================================\n",
            "First name: Gandalf\n",
            "Last name: The Grey\n",
            "Job: wizard\n",
            "Title: Gandalf The Grey the wizard\n",
            "=====================================\n",
            "First name: Aragorn\n",
            "Last name: Son of Arathorn\n",
            "Job: ranger\n",
            "Title: Aragorn Son of Arathorn the ranger\n",
            "=====================================\n"
          ]
        }
      ]
    },
    {
      "cell_type": "code",
      "source": [
        "def main():\n",
        "    print(\"Fantasy Quest is booting up...\")\n",
        "    print(\"Game is running!\")\n",
        "\n",
        "main()"
      ],
      "metadata": {
        "colab": {
          "base_uri": "https://localhost:8080/"
        },
        "id": "pG0E3g18cGAv",
        "outputId": "537a5c23-bc75-4bc3-f9c8-ad686745bdc2"
      },
      "execution_count": 7,
      "outputs": [
        {
          "output_type": "stream",
          "name": "stdout",
          "text": [
            "Fantasy Quest is booting up...\n",
            "Game is running!\n"
          ]
        }
      ]
    },
    {
      "cell_type": "code",
      "source": [
        "\"\"\"\n",
        "Complete the to_celsius function that returns the temperature converted from Fahrenheit to Celsius.\n",
        "\n",
        "Fortunately, computers are very fast at doing this kind of math.\n",
        "Just copy over the formula and let the computer replace f with whatever is passed into the function call, and remember to return the value. You don't have to do any math!\n",
        "\"\"\"\n",
        "def to_celsius(f):\n",
        "    celsius = 5/9 * (f - 32)\n",
        "    return celsius\n",
        "\n",
        "## Don't touch below this line\n",
        "\n",
        "\n",
        "def test(f):\n",
        "    c = round(to_celsius(f), 2)\n",
        "    print(f, \"degrees fahrenheit is\", c, \"degrees celsius\")\n",
        "\n",
        "\n",
        "test(100)\n",
        "test(88)\n",
        "test(104)\n",
        "test(112)"
      ],
      "metadata": {
        "colab": {
          "base_uri": "https://localhost:8080/"
        },
        "id": "zP73CgnAAZG2",
        "outputId": "58d53f45-10e4-46aa-d5f5-669a7a04eb52"
      },
      "execution_count": 1,
      "outputs": [
        {
          "output_type": "stream",
          "name": "stdout",
          "text": [
            "100 degrees fahrenheit is 37.78 degrees celsius\n",
            "88 degrees fahrenheit is 31.11 degrees celsius\n",
            "104 degrees fahrenheit is 40.0 degrees celsius\n",
            "112 degrees fahrenheit is 44.44 degrees celsius\n"
          ]
        }
      ]
    },
    {
      "cell_type": "code",
      "source": [
        "\"\"\"\n",
        "We need to be able to display the current time to our players. The problem is that the time is stored as a number of hours, but we want to display it as a number of seconds.\n",
        "There are 60 seconds in a minute, but how many are in an hour?\n",
        "\n",
        "Write the hours_to_seconds function. It should convert hours to seconds.\n",
        "\"\"\"\n",
        "def hours_to_seconds(hours):\n",
        "    convert = hours * 60 * 60\n",
        "    return convert\n",
        "\n",
        "# Don't touch below this line\n",
        "\n",
        "\n",
        "def test(hours):\n",
        "    secs = hours_to_seconds(hours)\n",
        "    print(hours, \"hours is\", secs, \"seconds\")\n",
        "\n",
        "\n",
        "test(10)\n",
        "test(1)\n",
        "test(25)\n",
        "test(100)\n",
        "test(33)\n",
        "\n"
      ],
      "metadata": {
        "colab": {
          "base_uri": "https://localhost:8080/"
        },
        "id": "Abmj9MZGBPxx",
        "outputId": "447fc200-1a64-4aa9-8085-a103b1172f38"
      },
      "execution_count": 2,
      "outputs": [
        {
          "output_type": "stream",
          "name": "stdout",
          "text": [
            "10 hours is 36000 seconds\n",
            "1 hours is 3600 seconds\n",
            "25 hours is 90000 seconds\n",
            "100 hours is 360000 seconds\n",
            "33 hours is 118800 seconds\n"
          ]
        }
      ]
    },
    {
      "cell_type": "code",
      "source": [
        "\"\"\"\n",
        "Complete the become_warrior function.\n",
        "It accepts 3 inputs: the first_name and last_name strings, and the power integer. It should return 2 values: a \"title\" string and a \"new power\" integer.\n",
        "\n",
        "\"\"\"\n",
        "def become_warrior(first_name, last_name, power):\n",
        "    title = f\"{first_name} {last_name} the warrior\"\n",
        "    new_power = power + 1\n",
        "    return title, new_power # return 2 values\n",
        "\n",
        "\n",
        "# Don't edit below this line\n",
        "\n",
        "\n",
        "def main():\n",
        "    test(\"Frodo\", \"Baggins\", 5)\n",
        "    test(\"Bilbo\", \"Baggins\", 10)\n",
        "    test(\"Gandalf\", \"The Grey\", 9000)\n",
        "\n",
        "\n",
        "def test(input1, input2, input3):\n",
        "    result1, result2 = become_warrior(input1, input2, input3) #assinging multiple variables to the multiple values returned from this function\n",
        "    print(result1, \"has a power level of:\", result2)\n",
        "\n",
        "\n",
        "main()\n"
      ],
      "metadata": {
        "colab": {
          "base_uri": "https://localhost:8080/"
        },
        "id": "HVymJqU0Ch9o",
        "outputId": "4cc48c38-4776-4134-9309-a7c3b0acfd07"
      },
      "execution_count": 6,
      "outputs": [
        {
          "output_type": "stream",
          "name": "stdout",
          "text": [
            "Frodo Baggins the warrior has a power level of: 6\n",
            "Bilbo Baggins the warrior has a power level of: 11\n",
            "Gandalf The Grey the warrior has a power level of: 9001\n"
          ]
        }
      ]
    },
    {
      "cell_type": "code",
      "source": [
        "\"\"\"\n",
        "Complete the get_punched and get_slashed functions. They should both:\n",
        "\n",
        "Take 2 integers as arguments, health and armor\n",
        "Set armor to a default value of 0\n",
        "get_punched\n",
        "Create a damage variable equal to 50 minus the armor - the armor reduces the damage\n",
        "Create a new_health variable equal to the input health minus damage - we apply the damage\n",
        "Return new_health\n",
        "get_slashed\n",
        "Create a damage variable equal to 100 minus the armor\n",
        "Create a new_health variable equal to the input health minus damage\n",
        "Return new_health\n",
        "\"\"\"\n",
        "def get_punched(health, armor = 0):\n",
        "    damage = 50 - armor\n",
        "    new_health = health - damage\n",
        "    return new_health\n",
        "\n",
        "def get_slashed(health, armor = 0):\n",
        "    damage = 100 - armor\n",
        "    new_health = health - damage\n",
        "    return new_health\n",
        "\n",
        "\n",
        "# Don't touch below this line\n",
        "\n",
        "\n",
        "def test(health, armor):\n",
        "    print(f\"Health: {health}, Armor: {armor}\")\n",
        "    print(f\"Health after punch: {get_punched(health, armor)}\")\n",
        "    print(\"=====================================\")\n",
        "    print(f\"Health: {health}, Armor: {armor}\")\n",
        "    print(f\"Health after slash: {get_slashed(health, armor)}\\n\")\n",
        "    print(\"=====================================\")\n",
        "    print(f\"Health: {health}, Armor: no armor!\")\n",
        "    print(f\"Health after slash: {get_slashed(health)}\\n\")\n",
        "    print(\"=====================================\")\n",
        "    print(f\"Health: {health}, Armor: no armor!\")\n",
        "    print(f\"Health after punch: {get_punched(health)}\")\n",
        "    print(\"=====================================\")\n",
        "\n",
        "\n",
        "test(400, 5)\n",
        "test(300, 3)\n",
        "test(200, 1)\n"
      ],
      "metadata": {
        "colab": {
          "base_uri": "https://localhost:8080/"
        },
        "id": "gLawYpO4GCl8",
        "outputId": "d21aae54-9e2b-4f4f-d747-e38407c209ef"
      },
      "execution_count": 7,
      "outputs": [
        {
          "output_type": "stream",
          "name": "stdout",
          "text": [
            "Health: 400, Armor: 5\n",
            "Health after punch: 355\n",
            "=====================================\n",
            "Health: 400, Armor: 5\n",
            "Health after slash: 305\n",
            "\n",
            "=====================================\n",
            "Health: 400, Armor: no armor!\n",
            "Health after slash: 300\n",
            "\n",
            "=====================================\n",
            "Health: 400, Armor: no armor!\n",
            "Health after punch: 350\n",
            "=====================================\n",
            "Health: 300, Armor: 3\n",
            "Health after punch: 253\n",
            "=====================================\n",
            "Health: 300, Armor: 3\n",
            "Health after slash: 203\n",
            "\n",
            "=====================================\n",
            "Health: 300, Armor: no armor!\n",
            "Health after slash: 200\n",
            "\n",
            "=====================================\n",
            "Health: 300, Armor: no armor!\n",
            "Health after punch: 250\n",
            "=====================================\n",
            "Health: 200, Armor: 1\n",
            "Health after punch: 151\n",
            "=====================================\n",
            "Health: 200, Armor: 1\n",
            "Health after slash: 101\n",
            "\n",
            "=====================================\n",
            "Health: 200, Armor: no armor!\n",
            "Health after slash: 100\n",
            "\n",
            "=====================================\n",
            "Health: 200, Armor: no armor!\n",
            "Health after punch: 150\n",
            "=====================================\n"
          ]
        }
      ]
    },
    {
      "cell_type": "code",
      "source": [
        "\"\"\"\n",
        "Complete the curse function. It accepts a weapon_damage parameter and returns two values:\n",
        "\n",
        "The lesser_cursed damage: reduce the input weapon_damage from 100% to 50% (50% reduction).\n",
        "The greater_cursed damage: reduce the input weapon_damage from 100% to 25% (75% reduction).\n",
        "A greater curse is more powerful than a lesser curse, so it reduces the damage more.\n",
        "\"\"\"\n",
        "def curse(weapon_damage):\n",
        "    lesser_cursed = weapon_damage * 0.5\n",
        "    greater_cursed = weapon_damage * 0.25\n",
        "    return lesser_cursed, greater_cursed\n",
        "\n",
        "# Don't modify below this line\n",
        "\n",
        "\n",
        "def test(weapon_damage):\n",
        "    print(\"Weapon's base damage:\", float(weapon_damage))\n",
        "    print(\"Cursing...\")\n",
        "    lesser_cursed, greater_cursed = curse(weapon_damage)\n",
        "    print(\"With lesser curse the damage is:\", float(lesser_cursed), \"damage.\")\n",
        "    print(\"With greater curse the damage is:\", float(greater_cursed), \"damage.\")\n",
        "    print(\"=====================================\")\n",
        "\n",
        "\n",
        "def main():\n",
        "    test(100)\n",
        "    test(500)\n",
        "    test(1000)\n",
        "\n",
        "\n",
        "main()\n"
      ],
      "metadata": {
        "colab": {
          "base_uri": "https://localhost:8080/"
        },
        "id": "uAEmSCOGH5Md",
        "outputId": "960536c7-003e-488b-b50c-34d73fca20d4"
      },
      "execution_count": 10,
      "outputs": [
        {
          "output_type": "stream",
          "name": "stdout",
          "text": [
            "Weapon's base damage: 100.0\n",
            "Cursing...\n",
            "With lesser curse the damage is: 50.0 damage.\n",
            "With greater curse the damage is: 25.0 damage.\n",
            "=====================================\n",
            "Weapon's base damage: 500.0\n",
            "Cursing...\n",
            "With lesser curse the damage is: 250.0 damage.\n",
            "With greater curse the damage is: 125.0 damage.\n",
            "=====================================\n",
            "Weapon's base damage: 1000.0\n",
            "Cursing...\n",
            "With lesser curse the damage is: 500.0 damage.\n",
            "With greater curse the damage is: 250.0 damage.\n",
            "=====================================\n"
          ]
        }
      ]
    },
    {
      "cell_type": "code",
      "source": [
        "\"\"\"\n",
        "Complete the enchant_and_attack function. It creates a new \"enchanted\" name for a weapon and calculates how much damage the enchanted weapon will deal to a targeted enemy.\n",
        "\n",
        "It accepts 3 parameters:\n",
        "\n",
        "target_health: integer\n",
        "damage: integer\n",
        "weapon: string\n",
        "It should do the following things in the function body:\n",
        "\n",
        "Calculate and store the \"enchanted damage\" in a new variable. The enchanted damage should be the input damage plus 10.\n",
        "Calculate and store the \"new health\" in a new variable. The new health should be the input target_health minus the enchanted damage.\n",
        "Create a new variable called enchanted_weapon. It should be the input weapon with the string \"enchanted \" added to the beginning of it. For example:\n",
        "sword -> enchanted sword\n",
        "axe -> enchanted axe\n",
        "Return the enchanted weapon and the new health in that order.\n",
        "\"\"\"\n",
        "def enchant_and_attack(target_health, damage, weapon):\n",
        "    enchanted_damage = damage + 10\n",
        "    new_health = target_health - enchanted_damage\n",
        "    enchanted_weapon = f\"enchanted {weapon}\"\n",
        "    return enchanted_weapon, new_health\n",
        "\n",
        "\n",
        "# Don't modify below this line\n",
        "\n",
        "\n",
        "def test(target_health, damage, weapon):\n",
        "    print(\"The target has\", target_health, \"health.\")\n",
        "    print(weapon, \"base damage:\", damage, \"Enchanting and attacking\")\n",
        "    enchanted_weapon, new_health = enchant_and_attack(target_health, damage, weapon)\n",
        "    print(\"The target has been attacked with the\", enchanted_weapon)\n",
        "    print(\"The target has\", new_health, \"health remaining.\")\n",
        "    print(\"=====================================\")\n",
        "\n",
        "\n",
        "def main():\n",
        "    test(100, 50, \"sword\")\n",
        "    test(500, 100, \"axe\")\n",
        "    test(1000, 250, \"bow\")\n",
        "\n",
        "\n",
        "main()\n"
      ],
      "metadata": {
        "colab": {
          "base_uri": "https://localhost:8080/"
        },
        "id": "69P_xVR1K--d",
        "outputId": "057b11d1-b440-4e75-c0c8-066ddacb4225"
      },
      "execution_count": 11,
      "outputs": [
        {
          "output_type": "stream",
          "name": "stdout",
          "text": [
            "The target has 100 health.\n",
            "sword base damage: 50 Enchanting and attacking\n",
            "The target has been attacked with the enchanted sword\n",
            "The target has 40 health remaining.\n",
            "=====================================\n",
            "The target has 500 health.\n",
            "axe base damage: 100 Enchanting and attacking\n",
            "The target has been attacked with the enchanted axe\n",
            "The target has 390 health remaining.\n",
            "=====================================\n",
            "The target has 1000 health.\n",
            "bow base damage: 250 Enchanting and attacking\n",
            "The target has been attacked with the enchanted bow\n",
            "The target has 740 health remaining.\n",
            "=====================================\n"
          ]
        }
      ]
    }
  ]
}