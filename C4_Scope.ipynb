{
  "nbformat": 4,
  "nbformat_minor": 0,
  "metadata": {
    "colab": {
      "provenance": [],
      "authorship_tag": "ABX9TyOJ+K14ilM0znQEjumLVSP9",
      "include_colab_link": true
    },
    "kernelspec": {
      "name": "python3",
      "display_name": "Python 3"
    },
    "language_info": {
      "name": "python"
    }
  },
  "cells": [
    {
      "cell_type": "markdown",
      "metadata": {
        "id": "view-in-github",
        "colab_type": "text"
      },
      "source": [
        "<a href=\"https://colab.research.google.com/github/quanzee/bootdev-learning-python/blob/main/C4_Scope.ipynb\" target=\"_parent\"><img src=\"https://colab.research.google.com/assets/colab-badge.svg\" alt=\"Open In Colab\"/></a>"
      ]
    },
    {
      "cell_type": "code",
      "execution_count": 2,
      "metadata": {
        "colab": {
          "base_uri": "https://localhost:8080/"
        },
        "id": "RxcPkA9bMV02",
        "outputId": "eee3dbf8-3633-4c9e-df32-07fb72cc09ee"
      },
      "outputs": [
        {
          "output_type": "stream",
          "name": "stdout",
          "text": [
            "max_health is: 50\n"
          ]
        }
      ],
      "source": [
        "def get_max_health(modifier, level):\n",
        "    return modifier * level\n",
        "\n",
        "\n",
        "my_modifier = 5\n",
        "my_level = 10\n",
        "\n",
        "## don't touch above this line\n",
        "\n",
        "max_health = get_max_health(my_modifier, my_level)\n",
        "\n",
        "# don't touch below this line\n",
        "\n",
        "print(f\"max_health is: {max_health}\")"
      ]
    },
    {
      "cell_type": "code",
      "source": [
        "\"\"\"\n",
        "Let's change how we are calculating our player's stats! The only thing we should need to define globally is the character level and then let our functions do the rest!\n",
        "\n",
        "Declare the variable player_level at the top of the global scope and set it to 4.\n",
        "\n",
        "\"\"\"\n",
        "player_level = 4\n",
        "\n",
        "# Don't touch below this line\n",
        "\n",
        "\n",
        "def calculate_health(modifier):\n",
        "    return player_level * modifier\n",
        "\n",
        "\n",
        "def calculate_primary_stats(armor_bonus, modifier):\n",
        "    return armor_bonus + modifier + player_level\n",
        "\n",
        "\n",
        "print(f\"Character has {calculate_health(10)} max health.\")\n",
        "\n",
        "print(f\"Character has {calculate_primary_stats(3, 8)} primary stats.\")"
      ],
      "metadata": {
        "colab": {
          "base_uri": "https://localhost:8080/"
        },
        "id": "XwJh1pSGXti4",
        "outputId": "aed72608-1c85-4b7c-8136-e11407ac1bfd"
      },
      "execution_count": 3,
      "outputs": [
        {
          "output_type": "stream",
          "name": "stdout",
          "text": [
            "Character has 40 max health.\n",
            "Character has 15 primary stats.\n"
          ]
        }
      ]
    },
    {
      "cell_type": "code",
      "source": [],
      "metadata": {
        "id": "NS-H16sJZnsy"
      },
      "execution_count": null,
      "outputs": []
    }
  ]
}