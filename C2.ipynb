{
  "nbformat": 4,
  "nbformat_minor": 0,
  "metadata": {
    "colab": {
      "provenance": [],
      "authorship_tag": "ABX9TyNEeEHBHQjiha3uYhUzF8J2",
      "include_colab_link": true
    },
    "kernelspec": {
      "name": "python3",
      "display_name": "Python 3"
    },
    "language_info": {
      "name": "python"
    }
  },
  "cells": [
    {
      "cell_type": "markdown",
      "metadata": {
        "id": "view-in-github",
        "colab_type": "text"
      },
      "source": [
        "<a href=\"https://colab.research.google.com/github/boobcatto/bootdev-learning-python/blob/main/C2.ipynb\" target=\"_parent\"><img src=\"https://colab.research.google.com/assets/colab-badge.svg\" alt=\"Open In Colab\"/></a>"
      ]
    },
    {
      "cell_type": "code",
      "execution_count": null,
      "metadata": {
        "colab": {
          "base_uri": "https://localhost:8080/"
        },
        "id": "0qAQP4rMBN3i",
        "outputId": "1b166be6-48cd-4b2a-d575-6721a35c9dbb"
      },
      "outputs": [
        {
          "output_type": "stream",
          "name": "stdout",
          "text": [
            "1000\n"
          ]
        }
      ],
      "source": [
        "#VARIABLES\n",
        "#We need to keep track of our hero's health!\n",
        "\n",
        "#On the first line of code, create a new variable named player_health and set it equal to 1000.\n",
        "\n",
        "player_health = 1000\n",
        "print(player_health)"
      ]
    },
    {
      "cell_type": "code",
      "source": [
        "#We need to reduce our hero's health as they take damage in the game.\n",
        "\n",
        "#Before each print() function in the provided code, change the value of player_health to 100 less than it was before.\n",
        "\n",
        "player_health = 1000\n",
        "\n",
        "# reduce by 100 here\n",
        "player_health = 900\n",
        "print(player_health)\n",
        "\n",
        "# and here\n",
        "player_health = 800\n",
        "print(player_health)\n",
        "\n",
        "# and here\n",
        "player_health = 700\n",
        "print(player_health)\n",
        "\n",
        "# and here\n",
        "player_health = 600\n",
        "print(player_health)"
      ],
      "metadata": {
        "colab": {
          "base_uri": "https://localhost:8080/"
        },
        "id": "BAItT-PnDwsr",
        "outputId": "5ae08882-9a5c-48a2-af3c-524e3a1dd1c6"
      },
      "execution_count": null,
      "outputs": [
        {
          "output_type": "stream",
          "name": "stdout",
          "text": [
            "900\n",
            "800\n",
            "700\n",
            "600\n"
          ]
        }
      ]
    },
    {
      "cell_type": "code",
      "source": [
        "#Create a new variable called armored_health on line 4 and set it equal to player_health * armor_multiplier\n",
        "\n",
        "player_health = 1000\n",
        "armor_multiplier = 2\n",
        "\n",
        "armored_health = player_health * armor_multiplier\n",
        "print(armored_health)"
      ],
      "metadata": {
        "colab": {
          "base_uri": "https://localhost:8080/"
        },
        "id": "N4I_gUycEFQA",
        "outputId": "37a78073-fb5a-45f6-e7bb-75ba6838d99c"
      },
      "execution_count": null,
      "outputs": [
        {
          "output_type": "stream",
          "name": "stdout",
          "text": [
            "2000\n"
          ]
        }
      ]
    },
    {
      "cell_type": "code",
      "source": [
        "\"\"\"\n",
        "When our hero walks through poison, their health should be reduced.\n",
        "Right now the hero is gaining 10 health instead of losing 10 health. Change the poison_damage variable to be negative.\n",
        "\"\"\"\n",
        "\n",
        "player_health = 100\n",
        "poison_damage = -10\n",
        "\n",
        "# don't touch below this line\n",
        "\n",
        "player_poison_health = player_health + poison_damage\n",
        "\n",
        "print(player_poison_health)"
      ],
      "metadata": {
        "colab": {
          "base_uri": "https://localhost:8080/"
        },
        "id": "yIo29iIxEaRd",
        "outputId": "6f8516a6-6ddf-4b3e-e5d2-f3df50cf2624"
      },
      "execution_count": null,
      "outputs": [
        {
          "output_type": "stream",
          "name": "stdout",
          "text": [
            "90\n"
          ]
        }
      ]
    },
    {
      "cell_type": "code",
      "source": [
        "#You can create a string with dynamic values by using f-strings in Python.\n",
        "\n",
        "num_bananas = 10\n",
        "print(f\"You have {num_bananas} bananas\")\n",
        "\n",
        "\n",
        "#The opening quotes must be preceded by an f.\n",
        "#Any variables within curly brackets have their values \"interpolated\" (injected) into the string.\n",
        "\n",
        "name = \"Yarl\"\n",
        "age = 37\n",
        "race = \"dwarf\"\n",
        "\n",
        "# Don't edit above this line\n",
        "\n",
        "print(f\"{name} is a {race} who is {age} years old.\")"
      ],
      "metadata": {
        "colab": {
          "base_uri": "https://localhost:8080/"
        },
        "id": "99xbbfgOGaOu",
        "outputId": "bd5ea7e4-50ec-421c-aa8f-03305d67c45d"
      },
      "execution_count": null,
      "outputs": [
        {
          "output_type": "stream",
          "name": "stdout",
          "text": [
            "You have 10 bananas\n",
            "Yarl is a dwarf who is 37 years old.\n"
          ]
        }
      ]
    },
    {
      "cell_type": "code",
      "source": [
        "#NoneType Variables\n",
        "\n",
        "#Note that the NoneType is not the same as a string with a value of \"None\":\n",
        "\n",
        "my_none = None # this is a None-type\n",
        "my_none = \"None\" # this is a string\n",
        "\n",
        "#Declare a variable named enemy and set it to None (not \"None\"). Don't change the print() function.\n",
        "\n",
        "enemy = None\n",
        "\n",
        "\n",
        "# don't touch below this line\n",
        "print(enemy is None)"
      ],
      "metadata": {
        "colab": {
          "base_uri": "https://localhost:8080/"
        },
        "id": "dTGFTjfkHRkx",
        "outputId": "94cfd105-a9a6-42ea-e231-cc2217b47e62"
      },
      "execution_count": null,
      "outputs": [
        {
          "output_type": "stream",
          "name": "stdout",
          "text": [
            "True\n"
          ]
        }
      ]
    },
    {
      "cell_type": "code",
      "source": [
        "\"\"\"\n",
        "We have a second player in our game!\n",
        "\n",
        "We need to tell each of our players how much health they have left.\n",
        "\n",
        "Edit line 9 to print Player 1's health: You have 1200 health using string concatenation and the variables provided\n",
        "Edit line 10 to print Player 2's health: You have 1100 health in the same way\n",
        "\"\"\"\n",
        "\n",
        "sentence_start = \"You have \"\n",
        "sentence_end = \" health\"\n",
        "\n",
        "player1_health = \"1200\"\n",
        "player2_health = \"1100\"\n",
        "\n",
        "# Don't edit above this line\n",
        "\n",
        "print(sentence_start + player1_health + sentence_end)\n",
        "print(sentence_start + player2_health + sentence_end)"
      ],
      "metadata": {
        "colab": {
          "base_uri": "https://localhost:8080/"
        },
        "id": "PGePq7EJF1OK",
        "outputId": "bdd64d62-b830-4698-d23e-5330079fb119"
      },
      "execution_count": 2,
      "outputs": [
        {
          "output_type": "stream",
          "name": "stdout",
          "text": [
            "You have 1200 health\n",
            "You have 1100 health\n"
          ]
        }
      ]
    },
    {
      "cell_type": "code",
      "source": [
        "\"\"\"\n",
        "Add some print statements to the end of the code to get the expected output:\n",
        "You there! Adventurer!\n",
        "The local mine has been taken over by orcs!\n",
        "We need your help taking it back. Bring back 8 of their axes as proof of your hard work.\n",
        "\"\"\"\n",
        "quest_start = \"You there! Adventurer!\"\n",
        "quest_middle = \"The local mine has been taken over by orcs!\"\n",
        "quest_end = \"We need your help taking it back.\"\n",
        "quest_objective = \"Bring back 8 of their axes as proof of your hard work.\"\n",
        "space = \" \"\n",
        "\n",
        "# don't touch above this line\n",
        "\n",
        "print(quest_start)\n",
        "print(quest_middle)\n",
        "print(quest_end + space + quest_objective)\n"
      ],
      "metadata": {
        "colab": {
          "base_uri": "https://localhost:8080/"
        },
        "id": "gyE5M1FMHs2o",
        "outputId": "f255a4e0-4cac-4321-ec47-b02186a12f17"
      },
      "execution_count": 3,
      "outputs": [
        {
          "output_type": "stream",
          "name": "stdout",
          "text": [
            "You there! Adventurer!\n",
            "The local mine has been taken over by orcs!\n",
            "We need your help taking it back. Bring back 8 of their axes as proof of your hard work.\n"
          ]
        }
      ]
    },
    {
      "cell_type": "code",
      "source": [
        "#Using the score variables, assign the average score of the 7 games to the average_score variable. You can use parentheses to order math operations.\n",
        "\n",
        "game_one_score = 97\n",
        "game_two_score = 91\n",
        "game_three_score = 106\n",
        "game_four_score = 105\n",
        "game_five_score = 96\n",
        "game_six_score = 93\n",
        "game_seven_score = 104\n",
        "\n",
        "# Don't touch above this line\n",
        "\n",
        "average_score = (game_one_score + game_two_score + game_three_score + game_four_score + game_five_score + game_six_score + game_seven_score)/7\n",
        "\n",
        "# Don't touch below this line\n",
        "\n",
        "print(round(average_score))"
      ],
      "metadata": {
        "colab": {
          "base_uri": "https://localhost:8080/"
        },
        "id": "oM8ixWxHIIV-",
        "outputId": "4ad36960-3135-42af-d08b-deb5ff4337f9"
      },
      "execution_count": 4,
      "outputs": [
        {
          "output_type": "stream",
          "name": "stdout",
          "text": [
            "99\n"
          ]
        }
      ]
    },
    {
      "cell_type": "code",
      "source": [
        "\"\"\"\n",
        "Fix the bugs and get the character report working!\n",
        "\n",
        "Update the variables to their expected data types:\n",
        "level: integer\n",
        "name: string\n",
        "character_class: string\n",
        "account_active: boolean\n",
        "pvp_rank: string\n",
        "max_health: integer\n",
        "max_mana: integer\n",
        "armor: integer\n",
        "magic_resistance: float\n",
        "Fix the bugs with the f-strings on lines 12 and 13.\n",
        "\n",
        "\"\"\"\n",
        "\n",
        "level = 25\n",
        "name = \"Lopen\"\n",
        "character_class = \"Windrunner\"\n",
        "account_active = True\n",
        "pvp_rank = \"Squire\"\n",
        "max_health = 79\n",
        "max_mana = 274\n",
        "armor = 12\n",
        "magic_resistance = 15.4\n",
        "\n",
        "print(\"Character Report\")\n",
        "print(f\"{name} is a level {level} {character_class}, ranked as a {pvp_rank}.\")\n",
        "print(f\"They have {max_health} max health and {max_mana} max mana.\")\n",
        "print(f\"They have {armor} armor and {magic_resistance} magic resistance.\")\n",
        "print(f\"Their account is currently active: {account_active}\")\n",
        "\n",
        "# Don't edit below this line\n",
        "\n",
        "print(\"Character Report Complete\")\n",
        "print(\n",
        "    f\"Data types {type(level)}, {type(name)}, {type(character_class)}, {type(account_active)}, {type(pvp_rank)}, {type(max_health)}, {type(max_mana)}, {type(armor)}, {type(magic_resistance)}\"\n",
        ")"
      ],
      "metadata": {
        "colab": {
          "base_uri": "https://localhost:8080/"
        },
        "id": "v931oDWOJ5-6",
        "outputId": "96513954-8a72-423f-d155-e5d332b1bb53"
      },
      "execution_count": 5,
      "outputs": [
        {
          "output_type": "stream",
          "name": "stdout",
          "text": [
            "Character Report\n",
            "Lopen is a level 25 Windrunner, ranked as a Squire.\n",
            "They have 79 max health and 274 max mana.\n",
            "They have 12 armor and 15.4 magic resistance.\n",
            "Their account is currently active: True\n",
            "Character Report Complete\n",
            "Data types <class 'int'>, <class 'str'>, <class 'str'>, <class 'bool'>, <class 'str'>, <class 'int'>, <class 'int'>, <class 'int'>, <class 'float'>\n"
          ]
        }
      ]
    }
  ]
}